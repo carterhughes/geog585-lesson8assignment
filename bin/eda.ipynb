{
 "cells": [
  {
   "cell_type": "code",
   "execution_count": 1,
   "metadata": {},
   "outputs": [],
   "source": [
    "import duckdb"
   ]
  },
  {
   "cell_type": "code",
   "execution_count": 3,
   "metadata": {},
   "outputs": [],
   "source": [
    "con = duckdb.connect(database=':memory:')\n",
    "con.sql('INSTALL spatial; LOAD spatial')"
   ]
  },
  {
   "cell_type": "code",
   "execution_count": 10,
   "metadata": {},
   "outputs": [
    {
     "data": {
      "text/plain": [
       "┌──────────┬──────────────────────┬─────────────────┬───┬──────────────┬──────────────┬──────────────────────┐\n",
       "│ OBJECTID │       GLOBALID       │    ASSET_ID     │ … │ CREATED_USER │ UPDATED_USER │       GEOMETRY       │\n",
       "│  int64   │       varchar        │     varchar     │   │   varchar    │   varchar    │       geometry       │\n",
       "├──────────┼──────────────────────┼─────────────────┼───┼──────────────┼──────────────┼──────────────────────┤\n",
       "│      125 │ {EF8386EA-B072-4EF…  │ MC-D54-COURT-02 │ … │ NULL         │ parksparks   │ MULTIPOLYGON (((13…  │\n",
       "│      124 │ {70B2E5F8-7C72-4A9…  │ MC-D54-COURT-01 │ … │ NULL         │ parksparks   │ MULTIPOLYGON (((13…  │\n",
       "│      545 │ {9A9E1645-D545-4E6…  │ MC-D47-COURT-01 │ … │ NULL         │ PARKS        │ MULTIPOLYGON (((12…  │\n",
       "│      546 │ {F5DF1C67-11B3-4BD…  │ MC-D47-COURT-04 │ … │ NULL         │ PARKS        │ MULTIPOLYGON (((12…  │\n",
       "│      547 │ {5A6DC082-71DE-46A…  │ MC-D47-COURT-05 │ … │ NULL         │ PARKS        │ MULTIPOLYGON (((12…  │\n",
       "├──────────┴──────────────────────┴─────────────────┴───┴──────────────┴──────────────┴──────────────────────┤\n",
       "│ 5 rows                                                                                40 columns (6 shown) │\n",
       "└────────────────────────────────────────────────────────────────────────────────────────────────────────────┘"
      ]
     },
     "execution_count": 10,
     "metadata": {},
     "output_type": "execute_result"
    }
   ],
   "source": [
    "con.sql('''\n",
    "CREATE OR REPLACE VIEW courts AS\n",
    "SELECT\n",
    "    * EXCLUDE (geometry),\n",
    "    ST_GeomFromWKB(geometry) AS GEOMETRY\n",
    "FROM\n",
    "    '../Courts.parquet';\n",
    "SELECT * FROM courts LIMIT 5;\n",
    "''')"
   ]
  },
  {
   "cell_type": "code",
   "execution_count": 26,
   "metadata": {},
   "outputs": [
    {
     "data": {
      "text/plain": [
       "┌───────────────┬─────────────┬─────────┬─────────┬─────────┬─────────┐\n",
       "│  column_name  │ column_type │  null   │   key   │ default │  extra  │\n",
       "│    varchar    │   varchar   │ varchar │ varchar │ varchar │ varchar │\n",
       "├───────────────┼─────────────┼─────────┼─────────┼─────────┼─────────┤\n",
       "│ OBJECTID      │ BIGINT      │ YES     │ NULL    │ NULL    │ NULL    │\n",
       "│ PARK_NAME     │ VARCHAR     │ YES     │ NULL    │ NULL    │ NULL    │\n",
       "│ OWNER         │ VARCHAR     │ YES     │ NULL    │ NULL    │ NULL    │\n",
       "│ STATUS        │ VARCHAR     │ YES     │ NULL    │ NULL    │ NULL    │\n",
       "│ FACILITY_C    │ VARCHAR     │ YES     │ NULL    │ NULL    │ NULL    │\n",
       "│ TYPE_         │ VARCHAR     │ YES     │ NULL    │ NULL    │ NULL    │\n",
       "│ AUTHORITY     │ VARCHAR     │ YES     │ NULL    │ NULL    │ NULL    │\n",
       "│ APPROVAL_YEAR │ INTEGER     │ YES     │ NULL    │ NULL    │ NULL    │\n",
       "│ PLANNING_AREA │ VARCHAR     │ YES     │ NULL    │ NULL    │ NULL    │\n",
       "│ ACQ_BASIS     │ VARCHAR     │ YES     │ NULL    │ NULL    │ NULL    │\n",
       "│ NARRATIVE     │ VARCHAR     │ YES     │ NULL    │ NULL    │ NULL    │\n",
       "│ URL           │ VARCHAR     │ YES     │ NULL    │ NULL    │ NULL    │\n",
       "│ PIC_URL       │ VARCHAR     │ YES     │ NULL    │ NULL    │ NULL    │\n",
       "│ GISOBJID      │ BIGINT      │ YES     │ NULL    │ NULL    │ NULL    │\n",
       "│ CREATED_DATE  │ TIMESTAMP   │ YES     │ NULL    │ NULL    │ NULL    │\n",
       "│ UPDATED_DATE  │ TIMESTAMP   │ YES     │ NULL    │ NULL    │ NULL    │\n",
       "│ WITHDRAW_DATE │ TIMESTAMP   │ YES     │ NULL    │ NULL    │ NULL    │\n",
       "│ CREATED_USER  │ VARCHAR     │ YES     │ NULL    │ NULL    │ NULL    │\n",
       "│ UPDATED_USER  │ VARCHAR     │ YES     │ NULL    │ NULL    │ NULL    │\n",
       "│ GLOBALID_1    │ VARCHAR     │ YES     │ NULL    │ NULL    │ NULL    │\n",
       "│ PARK_CODE     │ VARCHAR     │ YES     │ NULL    │ NULL    │ NULL    │\n",
       "│ GEOMETRY      │ GEOMETRY    │ YES     │ NULL    │ NULL    │ NULL    │\n",
       "├───────────────┴─────────────┴─────────┴─────────┴─────────┴─────────┤\n",
       "│ 22 rows                                                   6 columns │\n",
       "└─────────────────────────────────────────────────────────────────────┘"
      ]
     },
     "execution_count": 26,
     "metadata": {},
     "output_type": "execute_result"
    }
   ],
   "source": [
    "con.sql('''\n",
    "CREATE OR REPLACE VIEW parks AS\n",
    "SELECT\n",
    "    * EXCLUDE (geometry),\n",
    "    ST_GeomFromWKB(geometry) AS GEOMETRY\n",
    "FROM\n",
    "    '../ParkUnits.parquet';\n",
    "SELECT * FROM parks LIMIT 5;\n",
    "''')"
   ]
  },
  {
   "cell_type": "code",
   "execution_count": 33,
   "metadata": {},
   "outputs": [
    {
     "data": {
      "text/plain": [
       "┌──────────────┐\n",
       "│ column_name  │\n",
       "│   varchar    │\n",
       "├──────────────┤\n",
       "│ BASKETBALL   │\n",
       "│ BOCCI        │\n",
       "│ FUTSAL       │\n",
       "│ HANDBALL     │\n",
       "│ HOCKEY       │\n",
       "│ PADDLEBALL   │\n",
       "│ PICKLEBALL   │\n",
       "│ SHUFFLEBOARD │\n",
       "│ RACQUETBALL  │\n",
       "│ TAICHI       │\n",
       "│ TENNIS       │\n",
       "│ VOLLEYBALL   │\n",
       "│ LIGHTS       │\n",
       "│ PERMIT       │\n",
       "│ FULLHALF     │\n",
       "│ STANDARDS    │\n",
       "├──────────────┤\n",
       "│   16 rows    │\n",
       "└──────────────┘"
      ]
     },
     "execution_count": 33,
     "metadata": {},
     "output_type": "execute_result"
    }
   ],
   "source": [
    "con.sql('''\n",
    "SELECT\n",
    "    column_name\n",
    "FROM\n",
    "    (DESCRIBE courts)\n",
    "WHERE\n",
    "    column_type LIKE 'INT%'\n",
    "''')"
   ]
  },
  {
   "cell_type": "code",
   "execution_count": 37,
   "metadata": {},
   "outputs": [
    {
     "data": {
      "text/plain": [
       "┌──────────┬──────────────────────┬─────────┬───┬───────────────────┬──────────────┬──────────────┬──────────────────┐\n",
       "│ OBJECTID │      PARK_NAME       │  OWNER  │ … │ racquetball_count │ taichi_count │ tennis_count │ volleyball_count │\n",
       "│  int64   │       varchar        │ varchar │   │      int128       │    int128    │    int128    │      int128      │\n",
       "├──────────┼──────────────────────┼─────────┼───┼───────────────────┼──────────────┼──────────────┼──────────────────┤\n",
       "│      218 │ Olney Manor Recrea…  │ M-NCPPC │ … │                 1 │            0 │           18 │                2 │\n",
       "│      731 │ Cabin John Regiona…  │ M-NCPPC │ … │                 0 │            1 │           15 │                2 │\n",
       "│      853 │ Wheaton Regional P…  │ M-NCPPC │ … │                 0 │            0 │           12 │                0 │\n",
       "│       27 │ Fairland Recreatio…  │ M-NCPPC │ … │                 0 │            0 │            6 │                0 │\n",
       "│      408 │ Norwood Local Park   │ M-NCPPC │ … │                 0 │            0 │            5 │                0 │\n",
       "├──────────┴──────────────────────┴─────────┴───┴───────────────────┴──────────────┴──────────────┴──────────────────┤\n",
       "│ 5 rows                                                                                        35 columns (7 shown) │\n",
       "└────────────────────────────────────────────────────────────────────────────────────────────────────────────────────┘"
      ]
     },
     "execution_count": 37,
     "metadata": {},
     "output_type": "execute_result"
    }
   ],
   "source": [
    "con.sql('''\n",
    "CREATE OR REPLACE VIEW parks_enriched AS\n",
    "SELECT\n",
    "    parks.*,\n",
    "    COUNT(courts.*) AS courts_count,\n",
    "    COALESCE(BASKETBALL.SUM(), 0) AS basketball_count,\n",
    "    COALESCE(BOCCI.SUM(), 0) AS bocci_count,\n",
    "    COALESCE(FUTSAL.SUM(), 0) AS futsal_count,\n",
    "    COALESCE(HANDBALL.SUM(), 0) AS handball_count,\n",
    "    COALESCE(HOCKEY.SUM(), 0) AS hockey_count,\n",
    "    COALESCE(PADDLEBALL.SUM(), 0) AS paddleball_count,\n",
    "    COALESCE(PICKLEBALL.SUM(), 0) AS pickleball_count,\n",
    "    COALESCE(SHUFFLEBOARD.SUM(), 0) AS shuffleboard_count,\n",
    "    COALESCE(RACQUETBALL.SUM(), 0) AS racquetball_count,\n",
    "    COALESCE(TAICHI.SUM(), 0) AS taichi_count,\n",
    "    COALESCE(TENNIS.SUM(), 0) AS tennis_count,\n",
    "    COALESCE(VOLLEYBALL.SUM(), 0) AS volleyball_count\n",
    "FROM\n",
    "    parks\n",
    "LEFT JOIN courts ON\n",
    "    ST_Contains(parks.geometry, courts.geometry)\n",
    "WHERE\n",
    "    parks.owner = 'M-NCPPC'\n",
    "    AND parks.status = 'Existing'\n",
    "GROUP BY parks.*\n",
    "ORDER BY courts_count DESC;\n",
    "SELECT * FROM parks_enriched LIMIT 5;\n",
    "''')"
   ]
  },
  {
   "cell_type": "code",
   "execution_count": 38,
   "metadata": {},
   "outputs": [],
   "source": [
    "con.sql('''\n",
    "COPY (SELECT * FROM parks_enriched) TO '../parks_enriched.parquet' (FORMAT PARQUET);\n",
    "''')"
   ]
  }
 ],
 "metadata": {
  "kernelspec": {
   "display_name": ".venv",
   "language": "python",
   "name": "python3"
  },
  "language_info": {
   "codemirror_mode": {
    "name": "ipython",
    "version": 3
   },
   "file_extension": ".py",
   "mimetype": "text/x-python",
   "name": "python",
   "nbconvert_exporter": "python",
   "pygments_lexer": "ipython3",
   "version": "3.12.1"
  }
 },
 "nbformat": 4,
 "nbformat_minor": 2
}
