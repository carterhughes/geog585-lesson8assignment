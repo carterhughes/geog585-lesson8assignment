{
 "cells": [
  {
   "cell_type": "code",
   "execution_count": 72,
   "metadata": {},
   "outputs": [],
   "source": [
    "import duckdb"
   ]
  },
  {
   "cell_type": "code",
   "execution_count": 73,
   "metadata": {},
   "outputs": [],
   "source": [
    "con = duckdb.connect(database='../database.duckdb')\n",
    "con.sql('INSTALL spatial; LOAD spatial')"
   ]
  },
  {
   "cell_type": "code",
   "execution_count": 74,
   "metadata": {},
   "outputs": [
    {
     "data": {
      "text/plain": [
       "┌──────────┬──────────────────────┬─────────────────┬───┬──────────────┬──────────────┬──────────────────────┐\n",
       "│ OBJECTID │       GLOBALID       │    ASSET_ID     │ … │ CREATED_USER │ UPDATED_USER │       GEOMETRY       │\n",
       "│  int64   │       varchar        │     varchar     │   │   varchar    │   varchar    │       geometry       │\n",
       "├──────────┼──────────────────────┼─────────────────┼───┼──────────────┼──────────────┼──────────────────────┤\n",
       "│      125 │ {EF8386EA-B072-4EF…  │ MC-D54-COURT-02 │ … │ NULL         │ parksparks   │ MULTIPOLYGON (((13…  │\n",
       "│      124 │ {70B2E5F8-7C72-4A9…  │ MC-D54-COURT-01 │ … │ NULL         │ parksparks   │ MULTIPOLYGON (((13…  │\n",
       "│      545 │ {9A9E1645-D545-4E6…  │ MC-D47-COURT-01 │ … │ NULL         │ PARKS        │ MULTIPOLYGON (((12…  │\n",
       "│      546 │ {F5DF1C67-11B3-4BD…  │ MC-D47-COURT-04 │ … │ NULL         │ PARKS        │ MULTIPOLYGON (((12…  │\n",
       "│      547 │ {5A6DC082-71DE-46A…  │ MC-D47-COURT-05 │ … │ NULL         │ PARKS        │ MULTIPOLYGON (((12…  │\n",
       "├──────────┴──────────────────────┴─────────────────┴───┴──────────────┴──────────────┴──────────────────────┤\n",
       "│ 5 rows                                                                                40 columns (6 shown) │\n",
       "└────────────────────────────────────────────────────────────────────────────────────────────────────────────┘"
      ]
     },
     "execution_count": 74,
     "metadata": {},
     "output_type": "execute_result"
    }
   ],
   "source": [
    "con.sql('''\n",
    "CREATE OR REPLACE VIEW courts AS\n",
    "SELECT\n",
    "    * EXCLUDE (geometry),\n",
    "    ST_GeomFromWKB(geometry) AS GEOMETRY\n",
    "FROM\n",
    "    '../Courts.parquet';\n",
    "SELECT * FROM courts LIMIT 5;\n",
    "''')"
   ]
  },
  {
   "cell_type": "code",
   "execution_count": 75,
   "metadata": {},
   "outputs": [
    {
     "data": {
      "text/plain": [
       "┌──────────┬──────────────────────┬─────────┬──────────┬───┬──────────────────────┬───────────┬──────────────────────┐\n",
       "│ OBJECTID │      PARK_NAME       │  OWNER  │  STATUS  │ … │      GLOBALID_1      │ PARK_CODE │       GEOMETRY       │\n",
       "│  int64   │       varchar        │ varchar │ varchar  │   │       varchar        │  varchar  │       geometry       │\n",
       "├──────────┼──────────────────────┼─────────┼──────────┼───┼──────────────────────┼───────────┼──────────────────────┤\n",
       "│      649 │ Watts Branch SVU 4   │ M-NCPPC │ Existing │ … │ {C109BC29-B711-47B…  │ P67       │ MULTIPOLYGON (((12…  │\n",
       "│      650 │ Muddy Branch SVU 2   │ M-NCPPC │ Existing │ … │ {668B3CF8-116F-41A…  │ P28       │ MULTIPOLYGON (((12…  │\n",
       "│      737 │ Quince Orchard Val…  │ M-NCPPC │ Existing │ … │ {CE19FC8B-A5D1-45D…  │ B46       │ MULTIPOLYGON (((12…  │\n",
       "│      738 │ Fleming Local Park   │ M-NCPPC │ Existing │ … │ {A11112E7-2EF4-406…  │ D41       │ MULTIPOLYGON (((12…  │\n",
       "│      816 │ Veirs Mill Local P…  │ M-NCPPC │ Existing │ … │ {1D237458-457F-400…  │ E13       │ MULTIPOLYGON (((12…  │\n",
       "├──────────┴──────────────────────┴─────────┴──────────┴───┴──────────────────────┴───────────┴──────────────────────┤\n",
       "│ 5 rows                                                                                        22 columns (7 shown) │\n",
       "└────────────────────────────────────────────────────────────────────────────────────────────────────────────────────┘"
      ]
     },
     "execution_count": 75,
     "metadata": {},
     "output_type": "execute_result"
    }
   ],
   "source": [
    "con.sql('''\n",
    "CREATE OR REPLACE VIEW parks AS\n",
    "SELECT\n",
    "    * EXCLUDE (geometry),\n",
    "    ST_GeomFromWKB(geometry) AS GEOMETRY\n",
    "FROM\n",
    "    '../ParkUnits.parquet';\n",
    "SELECT * FROM parks LIMIT 5;\n",
    "''')"
   ]
  },
  {
   "cell_type": "code",
   "execution_count": 76,
   "metadata": {},
   "outputs": [
    {
     "data": {
      "text/plain": [
       "┌──────────────┬─────────────┬─────────┬─────────┬─────────┬─────────┐\n",
       "│ column_name  │ column_type │  null   │   key   │ default │  extra  │\n",
       "│   varchar    │   varchar   │ varchar │ varchar │ varchar │ varchar │\n",
       "├──────────────┼─────────────┼─────────┼─────────┼─────────┼─────────┤\n",
       "│ BASKETBALL   │ INTEGER     │ YES     │ NULL    │ NULL    │ NULL    │\n",
       "│ BOCCI        │ INTEGER     │ YES     │ NULL    │ NULL    │ NULL    │\n",
       "│ FUTSAL       │ INTEGER     │ YES     │ NULL    │ NULL    │ NULL    │\n",
       "│ HANDBALL     │ INTEGER     │ YES     │ NULL    │ NULL    │ NULL    │\n",
       "│ HOCKEY       │ INTEGER     │ YES     │ NULL    │ NULL    │ NULL    │\n",
       "│ PADDLEBALL   │ INTEGER     │ YES     │ NULL    │ NULL    │ NULL    │\n",
       "│ PICKLEBALL   │ INTEGER     │ YES     │ NULL    │ NULL    │ NULL    │\n",
       "│ SHUFFLEBOARD │ INTEGER     │ YES     │ NULL    │ NULL    │ NULL    │\n",
       "│ RACQUETBALL  │ INTEGER     │ YES     │ NULL    │ NULL    │ NULL    │\n",
       "│ TAICHI       │ INTEGER     │ YES     │ NULL    │ NULL    │ NULL    │\n",
       "│ TENNIS       │ INTEGER     │ YES     │ NULL    │ NULL    │ NULL    │\n",
       "│ VOLLEYBALL   │ INTEGER     │ YES     │ NULL    │ NULL    │ NULL    │\n",
       "│ LIGHTS       │ INTEGER     │ YES     │ NULL    │ NULL    │ NULL    │\n",
       "│ PERMIT       │ INTEGER     │ YES     │ NULL    │ NULL    │ NULL    │\n",
       "│ FULLHALF     │ INTEGER     │ YES     │ NULL    │ NULL    │ NULL    │\n",
       "│ STANDARDS    │ INTEGER     │ YES     │ NULL    │ NULL    │ NULL    │\n",
       "├──────────────┴─────────────┴─────────┴─────────┴─────────┴─────────┤\n",
       "│ 16 rows                                                  6 columns │\n",
       "└────────────────────────────────────────────────────────────────────┘"
      ]
     },
     "execution_count": 76,
     "metadata": {},
     "output_type": "execute_result"
    }
   ],
   "source": [
    "con.sql('''\n",
    "SELECT\n",
    "    *\n",
    "FROM\n",
    "    (DESCRIBE courts)\n",
    "WHERE\n",
    "    column_type LIKE 'INT%'\n",
    "''')"
   ]
  },
  {
   "cell_type": "code",
   "execution_count": 77,
   "metadata": {},
   "outputs": [
    {
     "data": {
      "text/plain": [
       "┌──────────────────────────────────────────────────────────────────────────────────────────────────────────────────────┐\n",
       "│                                                       GEOMETRY                                                       │\n",
       "│                                                       geometry                                                       │\n",
       "├──────────────────────────────────────────────────────────────────────────────────────────────────────────────────────┤\n",
       "│ MULTIPOLYGON (((1293080.030325815 532540.4866800457, 1293066.6681478173 532877.6739978045, 1293086.8524906486 5330…  │\n",
       "│ MULTIPOLYGON (((1268202.9806705564 499581.8898677081, 1268038.4078369737 499767.8320811391, 1268035.4173574 499771…  │\n",
       "│ MULTIPOLYGON (((1300411.2587735653 503244.45800188184, 1300560.687608555 503278.1718452126, 1300563.16595006 50314…  │\n",
       "│ MULTIPOLYGON (((1333079.1524271518 524207.9669277966, 1333112.616599068 524237.9711328745, 1333147.0253228992 5242…  │\n",
       "│ MULTIPOLYGON (((1285690.5992385596 476479.5994582176, 1285692.1812563986 476552.80698896945, 1285822.6508117318 47…  │\n",
       "└──────────────────────────────────────────────────────────────────────────────────────────────────────────────────────┘"
      ]
     },
     "execution_count": 77,
     "metadata": {},
     "output_type": "execute_result"
    }
   ],
   "source": [
    "con.sql('''\n",
    "SELECT\n",
    "    GEOMETRY\n",
    "FROM\n",
    "    parks_enriched\n",
    "    LIMIT 5;\n",
    "''')"
   ]
  },
  {
   "cell_type": "code",
   "execution_count": 78,
   "metadata": {},
   "outputs": [
    {
     "data": {
      "text/plain": [
       "┌──────────┬──────────────────────┬─────────┬───┬───────────────────┬──────────────┬──────────────┬──────────────────┐\n",
       "│ OBJECTID │      PARK_NAME       │  OWNER  │ … │ racquetball_count │ taichi_count │ tennis_count │ volleyball_count │\n",
       "│  int64   │       varchar        │ varchar │   │       int32       │    int32     │    int32     │      int32       │\n",
       "├──────────┼──────────────────────┼─────────┼───┼───────────────────┼──────────────┼──────────────┼──────────────────┤\n",
       "│      218 │ Olney Manor Recrea…  │ M-NCPPC │ … │                 1 │            0 │           18 │                2 │\n",
       "│      731 │ Cabin John Regiona…  │ M-NCPPC │ … │                 0 │            1 │           15 │                2 │\n",
       "│      853 │ Wheaton Regional P…  │ M-NCPPC │ … │                 0 │            0 │           12 │                0 │\n",
       "│       27 │ Fairland Recreatio…  │ M-NCPPC │ … │                 0 │            0 │            6 │                0 │\n",
       "│      408 │ Norwood Local Park   │ M-NCPPC │ … │                 0 │            0 │            5 │                0 │\n",
       "├──────────┴──────────────────────┴─────────┴───┴───────────────────┴──────────────┴──────────────┴──────────────────┤\n",
       "│ 5 rows                                                                                        35 columns (7 shown) │\n",
       "└────────────────────────────────────────────────────────────────────────────────────────────────────────────────────┘"
      ]
     },
     "execution_count": 78,
     "metadata": {},
     "output_type": "execute_result"
    }
   ],
   "source": [
    "con.sql('''\n",
    "CREATE OR REPLACE TABLE parks_enriched AS\n",
    "SELECT\n",
    "    parks.*,\n",
    "    COUNT(courts.*) AS courts_count,\n",
    "    CAST(COALESCE(BASKETBALL.SUM(), 0) AS INT) AS basketball_count,\n",
    "    CAST(COALESCE(BOCCI.SUM(), 0) AS INT) AS bocci_count,\n",
    "    CAST(COALESCE(FUTSAL.SUM(), 0) AS INT) AS futsal_count,\n",
    "    CAST(COALESCE(HANDBALL.SUM(), 0) AS INT) AS handball_count,\n",
    "    CAST(COALESCE(HOCKEY.SUM(), 0) AS INT) AS hockey_count,\n",
    "    CAST(COALESCE(PADDLEBALL.SUM(), 0) AS INT) AS paddleball_count,\n",
    "    CAST(COALESCE(PICKLEBALL.SUM(), 0) AS INT) AS pickleball_count,\n",
    "    CAST(COALESCE(SHUFFLEBOARD.SUM(), 0) AS INT) AS shuffleboard_count,\n",
    "    CAST(COALESCE(RACQUETBALL.SUM(), 0) AS INT) AS racquetball_count,\n",
    "    CAST(COALESCE(TAICHI.SUM(), 0) AS INT) AS taichi_count,\n",
    "    CAST(COALESCE(TENNIS.SUM(), 0) AS INT) AS tennis_count,\n",
    "    CAST(COALESCE(VOLLEYBALL.SUM(), 0) AS INT) AS volleyball_count\n",
    "FROM\n",
    "    parks\n",
    "LEFT JOIN courts ON\n",
    "    ST_Contains(parks.geometry, courts.geometry)\n",
    "WHERE\n",
    "    parks.owner = 'M-NCPPC'\n",
    "    AND parks.status = 'Existing'\n",
    "GROUP BY parks.*\n",
    "ORDER BY courts_count DESC;\n",
    "SELECT * FROM parks_enriched LIMIT 5;\n",
    "''')"
   ]
  },
  {
   "cell_type": "code",
   "execution_count": 79,
   "metadata": {},
   "outputs": [],
   "source": [
    "con.sql('''\n",
    "COPY (SELECT * FROM parks_enriched) TO '../parks_enriched.geojson' WITH (FORMAT GDAL, DRIVER 'GeoJSON', LAYER_CREATION_OPTIONS 'WRITE_BBOX=YES');\n",
    "''')"
   ]
  },
  {
   "cell_type": "code",
   "execution_count": 80,
   "metadata": {},
   "outputs": [],
   "source": [
    "con.close()"
   ]
  }
 ],
 "metadata": {
  "kernelspec": {
   "display_name": ".venv",
   "language": "python",
   "name": "python3"
  },
  "language_info": {
   "codemirror_mode": {
    "name": "ipython",
    "version": 3
   },
   "file_extension": ".py",
   "mimetype": "text/x-python",
   "name": "python",
   "nbconvert_exporter": "python",
   "pygments_lexer": "ipython3",
   "version": "3.12.1"
  }
 },
 "nbformat": 4,
 "nbformat_minor": 2
}
